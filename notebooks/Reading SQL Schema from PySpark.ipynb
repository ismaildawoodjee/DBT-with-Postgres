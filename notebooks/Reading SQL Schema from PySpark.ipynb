{
 "cells": [
  {
   "cell_type": "code",
   "execution_count": 1,
   "id": "7d290e63",
   "metadata": {},
   "outputs": [],
   "source": [
    "import findspark\n",
    "findspark.init()"
   ]
  },
  {
   "cell_type": "code",
   "execution_count": 2,
   "id": "99e8808c",
   "metadata": {},
   "outputs": [],
   "source": [
    "from pyspark.sql import SparkSession\n",
    "from pyspark.sql.types import *"
   ]
  },
  {
   "cell_type": "code",
   "execution_count": 3,
   "id": "b5250a4e",
   "metadata": {},
   "outputs": [],
   "source": [
    "import psycopg2\n",
    "import pandas as pd\n",
    "from sqlalchemy import create_engine"
   ]
  },
  {
   "cell_type": "code",
   "execution_count": 4,
   "id": "2a8b4f37",
   "metadata": {},
   "outputs": [],
   "source": [
    "USER_NAME = \"sourcedb1\"\n",
    "PASS_WORD = \"sourcedb1\"\n",
    "HOST_NAME = \"postgres-source\"\n",
    "DB_NAME = \"sourcedb\"\n",
    "\n",
    "CONN_STRING = f\"postgresql+psycopg2://{USER_NAME}:{PASS_WORD}@{HOST_NAME}/{DB_NAME}\"\n",
    "engine = create_engine(CONN_STRING)"
   ]
  },
  {
   "cell_type": "code",
   "execution_count": 5,
   "id": "08973949",
   "metadata": {},
   "outputs": [],
   "source": [
    "appName = \"pyspark_postgres\"\n",
    "master = \"local\""
   ]
  },
  {
   "cell_type": "code",
   "execution_count": 6,
   "id": "568838d0",
   "metadata": {},
   "outputs": [
    {
     "name": "stderr",
     "output_type": "stream",
     "text": [
      "WARNING: An illegal reflective access operation has occurred\n",
      "WARNING: Illegal reflective access by org.apache.spark.unsafe.Platform (file:/usr/local/spark-3.1.2-bin-hadoop3.2/jars/spark-unsafe_2.12-3.1.2.jar) to constructor java.nio.DirectByteBuffer(long,int)\n",
      "WARNING: Please consider reporting this to the maintainers of org.apache.spark.unsafe.Platform\n",
      "WARNING: Use --illegal-access=warn to enable warnings of further illegal reflective access operations\n",
      "WARNING: All illegal access operations will be denied in a future release\n",
      "21/09/10 07:26:32 WARN NativeCodeLoader: Unable to load native-hadoop library for your platform... using builtin-java classes where applicable\n",
      "Using Spark's default log4j profile: org/apache/spark/log4j-defaults.properties\n",
      "Setting default log level to \"WARN\".\n",
      "To adjust logging level use sc.setLogLevel(newLevel). For SparkR, use setLogLevel(newLevel).\n"
     ]
    }
   ],
   "source": [
    "spark = SparkSession.builder \\\n",
    "        .master(master) \\\n",
    "        .appName(appName) \\\n",
    "        .getOrCreate()"
   ]
  },
  {
   "cell_type": "markdown",
   "id": "95168a84",
   "metadata": {},
   "source": [
    "## Customers Table"
   ]
  },
  {
   "cell_type": "markdown",
   "id": "7d29514d",
   "metadata": {},
   "source": [
    "Perhaps I should read using Spark instead of Pandas"
   ]
  },
  {
   "cell_type": "code",
   "execution_count": 7,
   "id": "3d4886be",
   "metadata": {},
   "outputs": [],
   "source": [
    "customers_df = pd.read_sql('SELECT * FROM ecommerce.customers', con=engine)"
   ]
  },
  {
   "cell_type": "code",
   "execution_count": 8,
   "id": "ed60a563",
   "metadata": {},
   "outputs": [],
   "source": [
    "customers_sdf = spark.createDataFrame(customers_df)"
   ]
  },
  {
   "cell_type": "code",
   "execution_count": 9,
   "id": "5b9c9ace",
   "metadata": {},
   "outputs": [
    {
     "name": "stdout",
     "output_type": "stream",
     "text": [
      "StructType(List(StructField(customer_id,StringType,true),StructField(customer_unique_id,StringType,true),StructField(customer_zip_code_prefix,StringType,true),StructField(customer_city,StringType,true),StructField(customer_state,StringType,true)))\n"
     ]
    }
   ],
   "source": [
    "print(customers_sdf.schema)"
   ]
  },
  {
   "cell_type": "markdown",
   "id": "112170e9",
   "metadata": {},
   "source": [
    "Reading in raw CSV file"
   ]
  },
  {
   "cell_type": "code",
   "execution_count": 7,
   "id": "2807fa1f",
   "metadata": {},
   "outputs": [],
   "source": [
    "schema = StructType() \\\n",
    "    .add(\"customer_id\", StringType(), True) \\\n",
    "    .add(\"customer_unique_id\", StringType(), True) \\\n",
    "    .add(\"customer_zip_code_prefix\", StringType(), True) \\\n",
    "    .add(\"customer_city\", StringType(), True) \\\n",
    "    .add(\"customer_state\", StringType(), True)"
   ]
  },
  {
   "cell_type": "code",
   "execution_count": 12,
   "id": "e39ee664",
   "metadata": {},
   "outputs": [],
   "source": [
    "customers_csv_sdf = spark.read \\\n",
    "    .format(\"csv\") \\\n",
    "    .option(\"header\", True) \\\n",
    "    .schema(schema) \\\n",
    "    .load(\"/home/jovyan/source-data/olist_customers_dataset.csv\")"
   ]
  },
  {
   "cell_type": "markdown",
   "id": "58a8fb76",
   "metadata": {},
   "source": [
    "Are the two dataframes equivalent? Yep"
   ]
  },
  {
   "cell_type": "code",
   "execution_count": 18,
   "id": "c4e6dead",
   "metadata": {},
   "outputs": [
    {
     "data": {
      "text/plain": [
       "True"
      ]
     },
     "execution_count": 18,
     "metadata": {},
     "output_type": "execute_result"
    }
   ],
   "source": [
    "customers_sdf.schema == customers_csv_sdf.schema"
   ]
  },
  {
   "cell_type": "code",
   "execution_count": 20,
   "id": "93f2916c",
   "metadata": {
    "tags": []
   },
   "outputs": [
    {
     "name": "stderr",
     "output_type": "stream",
     "text": [
      "21/09/10 05:54:53 WARN TaskSetManager: Stage 3 contains a task of very large size (9655 KiB). The maximum recommended task size is 1000 KiB.\n",
      "                                                                                \r"
     ]
    },
    {
     "data": {
      "text/plain": [
       "True"
      ]
     },
     "execution_count": 20,
     "metadata": {},
     "output_type": "execute_result"
    }
   ],
   "source": [
    "customers_sdf.collect() == customers_csv_sdf.collect()"
   ]
  },
  {
   "cell_type": "code",
   "execution_count": 21,
   "id": "b6c96237",
   "metadata": {},
   "outputs": [],
   "source": [
    "def isEqual(df1, df2):\n",
    "    if df1.schema != df2.schema:\n",
    "        return False\n",
    "    if df1.collect() != df2.collect():\n",
    "        return False\n",
    "    return True"
   ]
  },
  {
   "cell_type": "code",
   "execution_count": 22,
   "id": "026388a3",
   "metadata": {},
   "outputs": [
    {
     "name": "stderr",
     "output_type": "stream",
     "text": [
      "21/09/10 05:56:44 WARN TaskSetManager: Stage 5 contains a task of very large size (9655 KiB). The maximum recommended task size is 1000 KiB.\n"
     ]
    },
    {
     "data": {
      "text/plain": [
       "True"
      ]
     },
     "execution_count": 22,
     "metadata": {},
     "output_type": "execute_result"
    }
   ],
   "source": [
    "isEqual(customers_sdf, customers_csv_sdf)"
   ]
  },
  {
   "cell_type": "markdown",
   "id": "fee09b02",
   "metadata": {},
   "source": [
    "## Orders Table"
   ]
  },
  {
   "cell_type": "code",
   "execution_count": 10,
   "id": "b3c85bd9",
   "metadata": {
    "tags": []
   },
   "outputs": [],
   "source": [
    "orders_df = pd.read_sql('SELECT * FROM ecommerce.orders', con=engine)"
   ]
  },
  {
   "cell_type": "code",
   "execution_count": 11,
   "id": "e840b624",
   "metadata": {},
   "outputs": [],
   "source": [
    "orders_sdf = spark.createDataFrame(orders_df)"
   ]
  },
  {
   "cell_type": "code",
   "execution_count": 12,
   "id": "741e4f81",
   "metadata": {},
   "outputs": [
    {
     "name": "stdout",
     "output_type": "stream",
     "text": [
      "StructType(List(StructField(order_id,StringType,true),StructField(customer_id,StringType,true),StructField(order_status,StringType,true),StructField(order_purchase_timestamp,TimestampType,true),StructField(order_approved_at,TimestampType,true),StructField(order_delivered_carrier_date,TimestampType,true),StructField(order_delivered_customer_date,TimestampType,true),StructField(order_estimated_delivery_date,TimestampType,true)))\n"
     ]
    }
   ],
   "source": [
    "print(orders_sdf.schema)"
   ]
  },
  {
   "cell_type": "markdown",
   "id": "be2abc3f",
   "metadata": {},
   "source": [
    "## Reviews Table"
   ]
  },
  {
   "cell_type": "code",
   "execution_count": 13,
   "id": "b876af27",
   "metadata": {},
   "outputs": [],
   "source": [
    "reviews_df = pd.read_sql('SELECT * FROM ecommerce.order_reviews', con=engine)"
   ]
  },
  {
   "cell_type": "code",
   "execution_count": 14,
   "id": "d931d9a1",
   "metadata": {},
   "outputs": [],
   "source": [
    "reviews_sdf = spark.createDataFrame(reviews_df)"
   ]
  },
  {
   "cell_type": "code",
   "execution_count": 15,
   "id": "4aa3397a",
   "metadata": {},
   "outputs": [
    {
     "name": "stdout",
     "output_type": "stream",
     "text": [
      "StructType(List(StructField(review_id,StringType,true),StructField(order_id,StringType,true),StructField(review_score,LongType,true),StructField(review_comment_title,StringType,true),StructField(review_comment_message,StringType,true),StructField(review_creation_date,TimestampType,true),StructField(review_answer_timestamp,TimestampType,true)))\n"
     ]
    }
   ],
   "source": [
    "print(reviews_sdf.schema)"
   ]
  },
  {
   "cell_type": "markdown",
   "id": "e5f5f91a",
   "metadata": {
    "tags": []
   },
   "source": [
    "## Geolocation Table"
   ]
  },
  {
   "cell_type": "code",
   "execution_count": 16,
   "id": "84547c00",
   "metadata": {},
   "outputs": [],
   "source": [
    "geolocation_df = pd.read_sql('SELECT * FROM ecommerce.geolocation', con=engine)"
   ]
  },
  {
   "cell_type": "code",
   "execution_count": 17,
   "id": "d0d50a52",
   "metadata": {},
   "outputs": [],
   "source": [
    "geolocation_sdf = spark.createDataFrame(geolocation_df)"
   ]
  },
  {
   "cell_type": "code",
   "execution_count": 18,
   "id": "959768e8",
   "metadata": {},
   "outputs": [
    {
     "name": "stdout",
     "output_type": "stream",
     "text": [
      "StructType(List(StructField(geolocation_zip_code_prefix,StringType,true),StructField(geolocation_lat,DoubleType,true),StructField(geolocation_lng,DoubleType,true),StructField(geolocation_city,StringType,true),StructField(geolocation_state,StringType,true)))\n"
     ]
    }
   ],
   "source": [
    "print(geolocation_sdf.schema)"
   ]
  },
  {
   "cell_type": "markdown",
   "id": "c2c02a3d",
   "metadata": {},
   "source": [
    "## Output as Parquet"
   ]
  },
  {
   "cell_type": "code",
   "execution_count": 20,
   "id": "b3540ca2",
   "metadata": {
    "tags": []
   },
   "outputs": [
    {
     "name": "stderr",
     "output_type": "stream",
     "text": [
      "21/09/10 07:34:34 WARN TaskSetManager: Stage 0 contains a task of very large size (9655 KiB). The maximum recommended task size is 1000 KiB.\n",
      "                                                                                \r"
     ]
    }
   ],
   "source": [
    "customers_sdf.write.parquet('/home/jovyan/filesystem/customers.parquet', compression='snappy')"
   ]
  },
  {
   "cell_type": "code",
   "execution_count": 21,
   "id": "0fe9770e",
   "metadata": {},
   "outputs": [
    {
     "name": "stderr",
     "output_type": "stream",
     "text": [
      "21/09/10 07:34:41 WARN TaskSetManager: Stage 1 contains a task of very large size (12593 KiB). The maximum recommended task size is 1000 KiB.\n",
      "                                                                                \r"
     ]
    }
   ],
   "source": [
    "orders_sdf.write.parquet('/home/jovyan/filesystem/orders.parquet', compression='snappy')"
   ]
  },
  {
   "cell_type": "code",
   "execution_count": 22,
   "id": "28abb8ec",
   "metadata": {},
   "outputs": [
    {
     "name": "stderr",
     "output_type": "stream",
     "text": [
      "21/09/10 07:34:44 WARN TaskSetManager: Stage 2 contains a task of very large size (12440 KiB). The maximum recommended task size is 1000 KiB.\n",
      "                                                                                \r"
     ]
    }
   ],
   "source": [
    "reviews_sdf.write.parquet('/home/jovyan/filesystem/reviews.parquet', compression='snappy')"
   ]
  },
  {
   "cell_type": "code",
   "execution_count": 23,
   "id": "9a80f271",
   "metadata": {},
   "outputs": [
    {
     "name": "stderr",
     "output_type": "stream",
     "text": [
      "21/09/10 07:34:45 WARN TaskSetManager: Stage 3 contains a task of very large size (46472 KiB). The maximum recommended task size is 1000 KiB.\n",
      "                                                                                \r"
     ]
    }
   ],
   "source": [
    "geolocation_sdf.write.parquet('/home/jovyan/filesystem/geolocation.parquet', compression='snappy')"
   ]
  },
  {
   "cell_type": "code",
   "execution_count": null,
   "id": "9a077d24",
   "metadata": {},
   "outputs": [],
   "source": []
  }
 ],
 "metadata": {
  "kernelspec": {
   "display_name": "Python 3 (ipykernel)",
   "language": "python",
   "name": "python3"
  },
  "language_info": {
   "codemirror_mode": {
    "name": "ipython",
    "version": 3
   },
   "file_extension": ".py",
   "mimetype": "text/x-python",
   "name": "python",
   "nbconvert_exporter": "python",
   "pygments_lexer": "ipython3",
   "version": "3.9.6"
  }
 },
 "nbformat": 4,
 "nbformat_minor": 5
}
