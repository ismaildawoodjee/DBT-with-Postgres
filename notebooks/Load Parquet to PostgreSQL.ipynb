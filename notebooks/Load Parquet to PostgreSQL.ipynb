{
 "cells": [
  {
   "cell_type": "code",
   "execution_count": 5,
   "id": "0dd8d8e1",
   "metadata": {},
   "outputs": [],
   "source": [
    "import findspark\n",
    "findspark.init()"
   ]
  },
  {
   "cell_type": "code",
   "execution_count": 6,
   "id": "9d126c2a",
   "metadata": {},
   "outputs": [],
   "source": [
    "from pyspark.sql import SparkSession"
   ]
  },
  {
   "cell_type": "code",
   "execution_count": 7,
   "id": "f90f695b",
   "metadata": {},
   "outputs": [],
   "source": [
    "appName = \"load_parquet\"\n",
    "master = \"local\""
   ]
  },
  {
   "cell_type": "code",
   "execution_count": 8,
   "id": "d1dedd25",
   "metadata": {},
   "outputs": [],
   "source": [
    "spark = SparkSession.builder \\\n",
    "        .master(master) \\\n",
    "        .appName(appName) \\\n",
    "        .getOrCreate()"
   ]
  },
  {
   "cell_type": "markdown",
   "id": "220e9763",
   "metadata": {},
   "source": [
    "## Read in Parquet"
   ]
  },
  {
   "cell_type": "code",
   "execution_count": 9,
   "id": "e758fc58",
   "metadata": {},
   "outputs": [
    {
     "name": "stderr",
     "output_type": "stream",
     "text": [
      "                                                                                \r"
     ]
    }
   ],
   "source": [
    "customers_sdf = spark.read.parquet('/home/jovyan/filesystem/customers.parquet')\n",
    "orders_sdf = spark.read.parquet('/home/jovyan/filesystem/orders.parquet')\n",
    "reviews_sdf = spark.read.parquet('/home/jovyan/filesystem/reviews.parquet')\n",
    "geolocation_sdf = spark.read.parquet('/home/jovyan/filesystem/geolocation.parquet')"
   ]
  },
  {
   "cell_type": "code",
   "execution_count": 10,
   "id": "0f8442fa",
   "metadata": {},
   "outputs": [
    {
     "name": "stdout",
     "output_type": "stream",
     "text": [
      "root\n",
      " |-- customer_id: string (nullable = true)\n",
      " |-- customer_unique_id: string (nullable = true)\n",
      " |-- customer_zip_code_prefix: string (nullable = true)\n",
      " |-- customer_city: string (nullable = true)\n",
      " |-- customer_state: string (nullable = true)\n",
      "\n"
     ]
    }
   ],
   "source": [
    "customers_sdf.printSchema()"
   ]
  },
  {
   "cell_type": "code",
   "execution_count": 11,
   "id": "3be9c5ef",
   "metadata": {},
   "outputs": [
    {
     "name": "stdout",
     "output_type": "stream",
     "text": [
      "root\n",
      " |-- order_id: string (nullable = true)\n",
      " |-- customer_id: string (nullable = true)\n",
      " |-- order_status: string (nullable = true)\n",
      " |-- order_purchase_timestamp: timestamp (nullable = true)\n",
      " |-- order_approved_at: timestamp (nullable = true)\n",
      " |-- order_delivered_carrier_date: timestamp (nullable = true)\n",
      " |-- order_delivered_customer_date: timestamp (nullable = true)\n",
      " |-- order_estimated_delivery_date: timestamp (nullable = true)\n",
      "\n"
     ]
    }
   ],
   "source": [
    "orders_sdf.printSchema()"
   ]
  },
  {
   "cell_type": "code",
   "execution_count": 12,
   "id": "d043ef20",
   "metadata": {},
   "outputs": [
    {
     "name": "stdout",
     "output_type": "stream",
     "text": [
      "root\n",
      " |-- review_id: string (nullable = true)\n",
      " |-- order_id: string (nullable = true)\n",
      " |-- review_score: long (nullable = true)\n",
      " |-- review_comment_title: string (nullable = true)\n",
      " |-- review_comment_message: string (nullable = true)\n",
      " |-- review_creation_date: timestamp (nullable = true)\n",
      " |-- review_answer_timestamp: timestamp (nullable = true)\n",
      "\n"
     ]
    }
   ],
   "source": [
    "reviews_sdf.printSchema()"
   ]
  },
  {
   "cell_type": "code",
   "execution_count": 13,
   "id": "439aa711",
   "metadata": {},
   "outputs": [
    {
     "name": "stdout",
     "output_type": "stream",
     "text": [
      "root\n",
      " |-- geolocation_zip_code_prefix: string (nullable = true)\n",
      " |-- geolocation_lat: double (nullable = true)\n",
      " |-- geolocation_lng: double (nullable = true)\n",
      " |-- geolocation_city: string (nullable = true)\n",
      " |-- geolocation_state: string (nullable = true)\n",
      "\n"
     ]
    }
   ],
   "source": [
    "geolocation_sdf.printSchema()"
   ]
  },
  {
   "cell_type": "markdown",
   "id": "742cfa4a",
   "metadata": {},
   "source": [
    "## Load to Postgres"
   ]
  },
  {
   "cell_type": "markdown",
   "id": "24a27eb8",
   "metadata": {},
   "source": [
    "- Have to download PostgreSQL JDBC driver from [here](https://jdbc.postgresql.org/download.html) and place it in the `/usr/local/spark/jar/` folder. Before opening the Jupyter notebook, copy over the jar file\n",
    "\n",
    "    `docker cp drivers/postgresql-42.2.23.jar dbt-with-postgres_pyspark-notebook_1:/usr/local/spark/jars/`\n",
    "\n",
    "- Schema (as in Postgres schema) has to exist beforehand. Here, only writing to `public` schema is allowed, unless the `stage` schema is created during container initialization.\n",
    "\n",
    "- After writing to Postgres database, the schema (as in column types for the table) are not preserved.\n",
    "\n",
    "- To preserve schema, add an additional option for `createTableColumnTypes` or `createTableOptions`. This means there is no need to create the tables beforehand but the schema has to be specified here."
   ]
  },
  {
   "cell_type": "code",
   "execution_count": 18,
   "id": "217dfcfd",
   "metadata": {
    "tags": []
   },
   "outputs": [
    {
     "name": "stderr",
     "output_type": "stream",
     "text": [
      "                                                                                \r"
     ]
    }
   ],
   "source": [
    "# alternative method\n",
    "customers_sdf.write \\\n",
    "    .jdbc(url=\"jdbc:postgresql://postgres-dest:5432/destdb\", table=\"stage.customers\", properties={\"user\": \"destdb1\", \"password\": \"destdb1\"})"
   ]
  },
  {
   "cell_type": "markdown",
   "id": "02a83824",
   "metadata": {},
   "source": [
    "These do not preserve schema:"
   ]
  },
  {
   "cell_type": "code",
   "execution_count": 17,
   "id": "83cb4435",
   "metadata": {
    "tags": []
   },
   "outputs": [
    {
     "name": "stderr",
     "output_type": "stream",
     "text": [
      "                                                                                \r"
     ]
    }
   ],
   "source": [
    "customers_sdf.write \\\n",
    "    .format(\"jdbc\") \\\n",
    "    .option(\"url\", \"jdbc:postgresql://postgres-dest:5432/destdb\") \\\n",
    "    .option(\"dbtable\", \"stage.customers\") \\\n",
    "    .option(\"user\", \"destdb1\") \\\n",
    "    .option(\"password\", \"destdb1\") \\\n",
    "    .save()"
   ]
  },
  {
   "cell_type": "code",
   "execution_count": 15,
   "id": "0438b8bb",
   "metadata": {
    "tags": []
   },
   "outputs": [
    {
     "name": "stderr",
     "output_type": "stream",
     "text": [
      "                                                                                \r"
     ]
    }
   ],
   "source": [
    "orders_sdf.write \\\n",
    "    .format(\"jdbc\") \\\n",
    "    .option(\"url\", \"jdbc:postgresql://postgres-dest:5432/destdb\") \\\n",
    "    .option(\"dbtable\", \"stage.orders\") \\\n",
    "    .option(\"user\", \"destdb1\") \\\n",
    "    .option(\"password\", \"destdb1\") \\\n",
    "    .save()"
   ]
  },
  {
   "cell_type": "code",
   "execution_count": 16,
   "id": "a7facf07-92f0-46a7-a76e-215e3eda5d35",
   "metadata": {},
   "outputs": [
    {
     "name": "stderr",
     "output_type": "stream",
     "text": [
      "                                                                                \r"
     ]
    }
   ],
   "source": [
    "reviews_sdf.write \\\n",
    "    .format(\"jdbc\") \\\n",
    "    .option(\"url\", \"jdbc:postgresql://postgres-dest:5432/destdb\") \\\n",
    "    .option(\"dbtable\", \"stage.orders\") \\\n",
    "    .option(\"user\", \"destdb1\") \\\n",
    "    .option(\"password\", \"destdb1\") \\\n",
    "    .save()"
   ]
  },
  {
   "cell_type": "code",
   "execution_count": 16,
   "id": "c4109f54",
   "metadata": {
    "tags": []
   },
   "outputs": [
    {
     "name": "stderr",
     "output_type": "stream",
     "text": [
      "                                                                                \r"
     ]
    }
   ],
   "source": [
    "geolocation_sdf.write \\\n",
    "    .format(\"jdbc\") \\\n",
    "    .option(\"url\", \"jdbc:postgresql://postgres-dest:5432/destdb\") \\\n",
    "    .option(\"dbtable\", \"stage.geolocation\") \\\n",
    "    .option(\"user\", \"destdb1\") \\\n",
    "    .option(\"password\", \"destdb1\") \\\n",
    "    .save()"
   ]
  },
  {
   "cell_type": "markdown",
   "id": "d800f6d4",
   "metadata": {
    "tags": []
   },
   "source": [
    "### Create Schema"
   ]
  },
  {
   "cell_type": "code",
   "execution_count": 19,
   "id": "eed6c97a",
   "metadata": {},
   "outputs": [
    {
     "name": "stdout",
     "output_type": "stream",
     "text": [
      "[('customer_id', 'string'), ('customer_unique_id', 'string'), ('customer_zip_code_prefix', 'string'), ('customer_city', 'string'), ('customer_state', 'string')]\n"
     ]
    }
   ],
   "source": [
    "print(customers_sdf.dtypes)"
   ]
  },
  {
   "cell_type": "code",
   "execution_count": 20,
   "id": "cfcda3c6",
   "metadata": {},
   "outputs": [],
   "source": [
    "customers_cols = [*map(lambda c: c[0], customers_sdf.dtypes)]\n",
    "orders_cols = [*map(lambda c: c[0], orders_sdf.dtypes)]\n",
    "reviews_cols = [*map(lambda c: c[0], reviews_sdf.dtypes)]\n",
    "geolocation_cols = [*map(lambda c: c[0], geolocation_sdf.dtypes)]"
   ]
  },
  {
   "cell_type": "markdown",
   "id": "ebee2218",
   "metadata": {},
   "source": [
    "`TEXT` data type is not supported in Spark"
   ]
  },
  {
   "cell_type": "code",
   "execution_count": 21,
   "id": "a0887a38",
   "metadata": {},
   "outputs": [],
   "source": [
    "customers_coltypes = \"VARCHAR(128) VARCHAR(128) CHAR(5) VARCHAR(128) CHAR(2)\".split(\" \")\n",
    "orders_coltypes = \"VARCHAR(128) VARCHAR(128) VARCHAR(128) TIMESTAMP TIMESTAMP TIMESTAMP TIMESTAMP TIMESTAMP\".split(\" \")\n",
    "reviews_coltypes = \"VARCHAR(128) VARCHAR(128) SMALLINT VARCHAR(128) VARCHAR(1024) TIMESTAMP TIMESTAMP\".split(\" \")\n",
    "geolocation_coltypes = \"CHAR(5) FLOAT FLOAT VARCHAR(128) CHAR(2)\".split(\" \")"
   ]
  },
  {
   "cell_type": "code",
   "execution_count": 22,
   "id": "d46b31b0",
   "metadata": {},
   "outputs": [],
   "source": [
    "customers_schema = []\n",
    "orders_schema = []\n",
    "reviews_schema = []\n",
    "geolocation_schema = []"
   ]
  },
  {
   "cell_type": "code",
   "execution_count": 23,
   "id": "3197abac",
   "metadata": {},
   "outputs": [],
   "source": [
    "for col, coltype in zip(customers_cols, customers_coltypes):\n",
    "    customers_schema.append(col + \" \" + coltype)\n",
    "    \n",
    "for col, coltype in zip(orders_cols, orders_coltypes):\n",
    "    orders_schema.append(col + \" \" + coltype)\n",
    "\n",
    "for col, coltype in zip(reviews_cols, reviews_coltypes):\n",
    "    reviews_schema.append(col + \" \" + coltype)\n",
    "    \n",
    "for col, coltype in zip(geolocation_cols, geolocation_coltypes):\n",
    "    geolocation_schema.append(col + \" \" + coltype)"
   ]
  },
  {
   "cell_type": "markdown",
   "id": "79c4dd4b",
   "metadata": {},
   "source": [
    "### Load to Postgres"
   ]
  },
  {
   "cell_type": "markdown",
   "id": "fc59f233",
   "metadata": {},
   "source": [
    "These will use the schema specified in the previous section"
   ]
  },
  {
   "cell_type": "code",
   "execution_count": 24,
   "id": "af7597c5",
   "metadata": {},
   "outputs": [
    {
     "name": "stderr",
     "output_type": "stream",
     "text": [
      "                                                                                \r"
     ]
    }
   ],
   "source": [
    "customers_sdf.write \\\n",
    "    .format(\"jdbc\") \\\n",
    "    .option(\"url\", \"jdbc:postgresql://postgres-dest:5432/destdb\") \\\n",
    "    .option(\"createTableColumnTypes\", ', '.join(customers_schema)) \\\n",
    "    .option(\"dbtable\", \"stage.customers\") \\\n",
    "    .option(\"user\", \"destdb1\") \\\n",
    "    .option(\"password\", \"destdb1\") \\\n",
    "    .save()"
   ]
  },
  {
   "cell_type": "code",
   "execution_count": 25,
   "id": "678204bd",
   "metadata": {},
   "outputs": [
    {
     "name": "stderr",
     "output_type": "stream",
     "text": [
      "                                                                                \r"
     ]
    }
   ],
   "source": [
    "orders_sdf.write \\\n",
    "    .format(\"jdbc\") \\\n",
    "    .option(\"url\", \"jdbc:postgresql://postgres-dest:5432/destdb\") \\\n",
    "    .option(\"createTableColumnTypes\", ', '.join(orders_schema)) \\\n",
    "    .option(\"dbtable\", \"stage.orders\") \\\n",
    "    .option(\"user\", \"destdb1\") \\\n",
    "    .option(\"password\", \"destdb1\") \\\n",
    "    .save()"
   ]
  },
  {
   "cell_type": "code",
   "execution_count": 26,
   "id": "4374631f",
   "metadata": {},
   "outputs": [
    {
     "name": "stderr",
     "output_type": "stream",
     "text": [
      "                                                                                \r"
     ]
    }
   ],
   "source": [
    "reviews_sdf.write \\\n",
    "    .format(\"jdbc\") \\\n",
    "    .option(\"url\", \"jdbc:postgresql://postgres-dest:5432/destdb\") \\\n",
    "    .option(\"createTableColumnTypes\", ', '.join(reviews_schema)) \\\n",
    "    .option(\"dbtable\", \"stage.order_reviews\") \\\n",
    "    .option(\"user\", \"destdb1\") \\\n",
    "    .option(\"password\", \"destdb1\") \\\n",
    "    .save()"
   ]
  },
  {
   "cell_type": "code",
   "execution_count": 27,
   "id": "0bc427ac",
   "metadata": {},
   "outputs": [
    {
     "name": "stderr",
     "output_type": "stream",
     "text": [
      "                                                                                \r"
     ]
    }
   ],
   "source": [
    "geolocation_sdf.write \\\n",
    "    .format(\"jdbc\") \\\n",
    "    .option(\"url\", \"jdbc:postgresql://postgres-dest:5432/destdb\") \\\n",
    "    .option(\"createTableColumnTypes\", ', '.join(geolocation_schema)) \\\n",
    "    .option(\"dbtable\", \"stage.geolocation\") \\\n",
    "    .option(\"user\", \"destdb1\") \\\n",
    "    .option(\"password\", \"destdb1\") \\\n",
    "    .save()"
   ]
  },
  {
   "cell_type": "code",
   "execution_count": null,
   "id": "165d1090",
   "metadata": {},
   "outputs": [],
   "source": []
  }
 ],
 "metadata": {
  "kernelspec": {
   "display_name": "Python 3 (ipykernel)",
   "language": "python",
   "name": "python3"
  },
  "language_info": {
   "codemirror_mode": {
    "name": "ipython",
    "version": 3
   },
   "file_extension": ".py",
   "mimetype": "text/x-python",
   "name": "python",
   "nbconvert_exporter": "python",
   "pygments_lexer": "ipython3",
   "version": "3.9.6"
  }
 },
 "nbformat": 4,
 "nbformat_minor": 5
}
