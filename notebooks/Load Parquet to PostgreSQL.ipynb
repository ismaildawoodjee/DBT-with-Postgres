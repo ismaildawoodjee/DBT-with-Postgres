{
 "cells": [
  {
   "cell_type": "code",
   "execution_count": 1,
   "id": "49c24555-4df5-4384-aa58-a7008bd0b425",
   "metadata": {},
   "outputs": [],
   "source": [
    "import findspark\n",
    "findspark.init()"
   ]
  },
  {
   "cell_type": "code",
   "execution_count": 2,
   "id": "3fff8916-6c23-425a-b2d9-06e0a01d8b82",
   "metadata": {},
   "outputs": [],
   "source": [
    "from pyspark.sql import SparkSession"
   ]
  },
  {
   "cell_type": "code",
   "execution_count": 3,
   "id": "423085c2-e545-44a3-ae4a-ef1fb8c7b43e",
   "metadata": {},
   "outputs": [],
   "source": [
    "appName = \"load_parquet\"\n",
    "master = \"local\""
   ]
  },
  {
   "cell_type": "code",
   "execution_count": 4,
   "id": "ef2974e0-ae13-41cf-b0fd-cfddd5ad67f7",
   "metadata": {},
   "outputs": [
    {
     "name": "stderr",
     "output_type": "stream",
     "text": [
      "WARNING: An illegal reflective access operation has occurred\n",
      "WARNING: Illegal reflective access by org.apache.spark.unsafe.Platform (file:/usr/local/spark-3.1.2-bin-hadoop3.2/jars/spark-unsafe_2.12-3.1.2.jar) to constructor java.nio.DirectByteBuffer(long,int)\n",
      "WARNING: Please consider reporting this to the maintainers of org.apache.spark.unsafe.Platform\n",
      "WARNING: Use --illegal-access=warn to enable warnings of further illegal reflective access operations\n",
      "WARNING: All illegal access operations will be denied in a future release\n",
      "21/09/09 07:44:29 WARN NativeCodeLoader: Unable to load native-hadoop library for your platform... using builtin-java classes where applicable\n",
      "Using Spark's default log4j profile: org/apache/spark/log4j-defaults.properties\n",
      "Setting default log level to \"WARN\".\n",
      "To adjust logging level use sc.setLogLevel(newLevel). For SparkR, use setLogLevel(newLevel).\n"
     ]
    }
   ],
   "source": [
    "spark = SparkSession.builder \\\n",
    "        .master(master) \\\n",
    "        .appName(appName) \\\n",
    "        .getOrCreate()"
   ]
  },
  {
   "cell_type": "markdown",
   "id": "1a96f2c6-f18a-4215-9c4f-ec612acfd597",
   "metadata": {},
   "source": [
    "## Read in Parquet"
   ]
  },
  {
   "cell_type": "code",
   "execution_count": 5,
   "id": "d565d64e-f58b-49d9-9ff2-6f14ba65b6a0",
   "metadata": {},
   "outputs": [
    {
     "name": "stderr",
     "output_type": "stream",
     "text": [
      "                                                                                \r"
     ]
    }
   ],
   "source": [
    "customers_sdf = spark.read.parquet('/home/jovyan/filesystem/customers.parquet')\n",
    "orders_sdf = spark.read.parquet('/home/jovyan/filesystem/orders.parquet')\n",
    "geolocation_sdf = spark.read.parquet('/home/jovyan/filesystem/geolocation.parquet')"
   ]
  },
  {
   "cell_type": "code",
   "execution_count": 6,
   "id": "1352a2b8-0e89-4899-bb43-c433d9748113",
   "metadata": {},
   "outputs": [
    {
     "name": "stdout",
     "output_type": "stream",
     "text": [
      "root\n",
      " |-- customer_id: string (nullable = true)\n",
      " |-- customer_unique_id: string (nullable = true)\n",
      " |-- customer_zip_code_prefix: string (nullable = true)\n",
      " |-- customer_city: string (nullable = true)\n",
      " |-- customer_state: string (nullable = true)\n",
      "\n"
     ]
    }
   ],
   "source": [
    "customers_sdf.printSchema()"
   ]
  },
  {
   "cell_type": "code",
   "execution_count": 8,
   "id": "fd54e80f-d5cf-497a-aab3-807fe9ca0f59",
   "metadata": {},
   "outputs": [
    {
     "name": "stdout",
     "output_type": "stream",
     "text": [
      "root\n",
      " |-- order_id: string (nullable = true)\n",
      " |-- customer_id: string (nullable = true)\n",
      " |-- order_status: string (nullable = true)\n",
      " |-- order_purchase_timestamp: timestamp (nullable = true)\n",
      " |-- order_approved_at: timestamp (nullable = true)\n",
      " |-- order_delivered_carrier_date: timestamp (nullable = true)\n",
      " |-- order_delivered_customer_date: timestamp (nullable = true)\n",
      " |-- order_estimated_delivery_date: timestamp (nullable = true)\n",
      "\n"
     ]
    }
   ],
   "source": [
    "orders_sdf.printSchema()"
   ]
  },
  {
   "cell_type": "code",
   "execution_count": 21,
   "id": "547a5f57-04de-4770-a1a8-2ea1546943f6",
   "metadata": {},
   "outputs": [
    {
     "name": "stdout",
     "output_type": "stream",
     "text": [
      "root\n",
      " |-- geolocation_zip_code_prefix: string (nullable = true)\n",
      " |-- geolocation_lat: double (nullable = true)\n",
      " |-- geolocation_lng: double (nullable = true)\n",
      " |-- geolocation_city: string (nullable = true)\n",
      " |-- geolocation_state: string (nullable = true)\n",
      "\n"
     ]
    }
   ],
   "source": [
    "geolocation_sdf.printSchema()"
   ]
  },
  {
   "cell_type": "markdown",
   "id": "e266f038-d3f0-4b74-8ccc-5512b3124b3f",
   "metadata": {},
   "source": [
    "## Load to Postgres"
   ]
  },
  {
   "cell_type": "markdown",
   "id": "bcdd6c36-4bb9-46fa-a3d9-81804d31fe13",
   "metadata": {},
   "source": [
    "- Have to download PostgreSQL JDBC driver from []() and place it in the `/usr/local/spark/jar/` folder. Use\n",
    "\n",
    "    `docker cp drivers/postgresql-42.2.23.jar dbt-with-postgres_pyspark-notebook_1:/usr/local/spark/jars/`\n",
    "\n",
    "- Schema (as in Postgres schema) has to exist beforehand. Here, only writing to `public` schema is allowed.\n",
    "\n",
    "- After writing to Postgres database, the schema (as in column types for the table) are not preserved.\n",
    "\n",
    "- To preserve schema, add an additional option for `createTableColumnTypes` or `createTableOptions`. This means there is no need to create the tables beforehand but the schema has to be specified here."
   ]
  },
  {
   "cell_type": "code",
   "execution_count": 11,
   "id": "c76aab56-3022-4473-bb53-c2c9845cee31",
   "metadata": {
    "tags": []
   },
   "outputs": [],
   "source": [
    "# alternative method\n",
    "customers_sdf.write \\\n",
    "    .jdbc(url=\"jdbc:postgresql://postgres-dest:5432/destdb\", table=\"public.customers\", properties={\"user\": \"destdb1\", \"password\": \"destdb1\"})"
   ]
  },
  {
   "cell_type": "markdown",
   "id": "f0525056-33b6-4bb5-b98f-21652ea4c10d",
   "metadata": {},
   "source": [
    "These do not preserve schema:"
   ]
  },
  {
   "cell_type": "code",
   "execution_count": 12,
   "id": "78a6fdd6-09bc-4e28-9785-e2e7a5b1d76f",
   "metadata": {
    "tags": []
   },
   "outputs": [
    {
     "name": "stderr",
     "output_type": "stream",
     "text": [
      "                                                                                \r"
     ]
    }
   ],
   "source": [
    "customers_sdf.write \\\n",
    "    .format(\"jdbc\") \\\n",
    "    .option(\"url\", \"jdbc:postgresql://postgres-dest:5432/destdb\") \\\n",
    "    .option(\"dbtable\", \"public.customers\") \\\n",
    "    .option(\"user\", \"destdb1\") \\\n",
    "    .option(\"password\", \"destdb1\") \\\n",
    "    .save()"
   ]
  },
  {
   "cell_type": "code",
   "execution_count": 15,
   "id": "d2228912-298f-4285-94c5-37ca15b8d0e5",
   "metadata": {
    "tags": []
   },
   "outputs": [
    {
     "name": "stderr",
     "output_type": "stream",
     "text": [
      "                                                                                \r"
     ]
    }
   ],
   "source": [
    "orders_sdf.write \\\n",
    "    .format(\"jdbc\") \\\n",
    "    .option(\"url\", \"jdbc:postgresql://postgres-dest:5432/destdb\") \\\n",
    "    .option(\"dbtable\", \"public.orders\") \\\n",
    "    .option(\"user\", \"destdb1\") \\\n",
    "    .option(\"password\", \"destdb1\") \\\n",
    "    .save()"
   ]
  },
  {
   "cell_type": "code",
   "execution_count": 16,
   "id": "f5328286-49e5-47bc-af88-2095943d108e",
   "metadata": {},
   "outputs": [
    {
     "name": "stderr",
     "output_type": "stream",
     "text": [
      "                                                                                \r"
     ]
    }
   ],
   "source": [
    "geolocation_sdf.write \\\n",
    "    .format(\"jdbc\") \\\n",
    "    .option(\"url\", \"jdbc:postgresql://postgres-dest:5432/destdb\") \\\n",
    "    .option(\"dbtable\", \"public.geolocation\") \\\n",
    "    .option(\"user\", \"destdb1\") \\\n",
    "    .option(\"password\", \"destdb1\") \\\n",
    "    .save()"
   ]
  },
  {
   "cell_type": "markdown",
   "id": "ede4353c-de5f-4dfc-9342-d1a589f7bf32",
   "metadata": {
    "tags": []
   },
   "source": [
    "### Create Schema"
   ]
  },
  {
   "cell_type": "code",
   "execution_count": 53,
   "id": "fb894dae-df14-4d8e-b967-6fdffc88e0d5",
   "metadata": {},
   "outputs": [
    {
     "name": "stdout",
     "output_type": "stream",
     "text": [
      "[('customer_id', 'string'), ('customer_unique_id', 'string'), ('customer_zip_code_prefix', 'string'), ('customer_city', 'string'), ('customer_state', 'string')]\n"
     ]
    }
   ],
   "source": [
    "print(customers_sdf.dtypes)"
   ]
  },
  {
   "cell_type": "code",
   "execution_count": 55,
   "id": "7a08ce68-42cb-4803-a1d5-3b717ebaa7ff",
   "metadata": {},
   "outputs": [],
   "source": [
    "customers_cols = [*map(lambda c: c[0], customers_sdf.dtypes)]\n",
    "orders_cols = [*map(lambda c: c[0], orders_sdf.dtypes)]\n",
    "geolocation_cols = [*map(lambda c: c[0], geolocation_sdf.dtypes)]"
   ]
  },
  {
   "cell_type": "markdown",
   "id": "84877b1d-1685-4391-aef3-70772fa01a39",
   "metadata": {},
   "source": [
    "`TEXT` data type is not supported in Spark"
   ]
  },
  {
   "cell_type": "code",
   "execution_count": 73,
   "id": "158dde80-779f-4c41-86d1-314da54fc6ec",
   "metadata": {},
   "outputs": [],
   "source": [
    "customers_coltypes = \"VARCHAR(128) VARCHAR(128) CHAR(5) VARCHAR(128) CHAR(2)\".split(\" \")\n",
    "orders_coltypes = \"VARCHAR(128) VARCHAR(128) VARCHAR(128) TIMESTAMP TIMESTAMP TIMESTAMP TIMESTAMP TIMESTAMP\".split(\" \")\n",
    "geolocation_coltypes = \"CHAR(5) NUMERIC NUMERIC VARCHAR(128) CHAR(2)\".split(\" \")"
   ]
  },
  {
   "cell_type": "code",
   "execution_count": 74,
   "id": "64e4f5e0-c28b-460d-8392-ed8c398e6eff",
   "metadata": {},
   "outputs": [],
   "source": [
    "customers_schema = []\n",
    "orders_schema = []\n",
    "geolocation_schema = []"
   ]
  },
  {
   "cell_type": "code",
   "execution_count": 75,
   "id": "02ee49d9-c2b3-410b-8cf2-9e7195aecbf4",
   "metadata": {},
   "outputs": [],
   "source": [
    "for col, coltype in zip(customers_cols, customers_coltypes):\n",
    "    customers_schema.append(col + \" \" + coltype)\n",
    "    \n",
    "for col, coltype in zip(orders_cols, orders_coltypes):\n",
    "    orders_schema.append(col + \" \" + coltype)\n",
    "    \n",
    "for col, coltype in zip(geolocation_cols, geolocation_coltypes):\n",
    "    geolocation_schema.append(col + \" \" + coltype)"
   ]
  },
  {
   "cell_type": "markdown",
   "id": "98f2803c-d162-4675-81d9-3be56de2bdb5",
   "metadata": {},
   "source": [
    "### Load to Postgres"
   ]
  },
  {
   "cell_type": "markdown",
   "id": "733a063b-7bb6-4e80-850d-8a44859de0e6",
   "metadata": {},
   "source": [
    "These will use the schema specified in the previous section"
   ]
  },
  {
   "cell_type": "code",
   "execution_count": 79,
   "id": "a8e21a87-c129-4e92-b1d3-765c018ae88a",
   "metadata": {},
   "outputs": [
    {
     "name": "stderr",
     "output_type": "stream",
     "text": [
      "                                                                                \r"
     ]
    }
   ],
   "source": [
    "customers_sdf.write \\\n",
    "    .format(\"jdbc\") \\\n",
    "    .option(\"url\", \"jdbc:postgresql://postgres-dest:5432/destdb\") \\\n",
    "    .option(\"createTableColumnTypes\", ', '.join(customers_schema)) \\\n",
    "    .option(\"dbtable\", \"public.customers\") \\\n",
    "    .option(\"user\", \"destdb1\") \\\n",
    "    .option(\"password\", \"destdb1\") \\\n",
    "    .save()"
   ]
  },
  {
   "cell_type": "code",
   "execution_count": 77,
   "id": "3f53889b-31c6-4bd7-bfb3-a72be401d6a5",
   "metadata": {},
   "outputs": [
    {
     "name": "stderr",
     "output_type": "stream",
     "text": [
      "                                                                                \r"
     ]
    }
   ],
   "source": [
    "orders_sdf.write \\\n",
    "    .format(\"jdbc\") \\\n",
    "    .option(\"url\", \"jdbc:postgresql://postgres-dest:5432/destdb\") \\\n",
    "    .option(\"createTableColumnTypes\", ', '.join(orders_schema)) \\\n",
    "    .option(\"dbtable\", \"public.orders\") \\\n",
    "    .option(\"user\", \"destdb1\") \\\n",
    "    .option(\"password\", \"destdb1\") \\\n",
    "    .save()"
   ]
  },
  {
   "cell_type": "code",
   "execution_count": 78,
   "id": "8f851288-f457-4121-85bb-895b05398c33",
   "metadata": {},
   "outputs": [
    {
     "name": "stderr",
     "output_type": "stream",
     "text": [
      "                                                                                \r"
     ]
    }
   ],
   "source": [
    "geolocation_sdf.write \\\n",
    "    .format(\"jdbc\") \\\n",
    "    .option(\"url\", \"jdbc:postgresql://postgres-dest:5432/destdb\") \\\n",
    "    .option(\"createTableColumnTypes\", ', '.join(geolocation_schema)) \\\n",
    "    .option(\"dbtable\", \"public.geolocation\") \\\n",
    "    .option(\"user\", \"destdb1\") \\\n",
    "    .option(\"password\", \"destdb1\") \\\n",
    "    .save()"
   ]
  },
  {
   "cell_type": "code",
   "execution_count": null,
   "id": "77919a6e-04d2-41d5-b947-b56bb65625e1",
   "metadata": {},
   "outputs": [],
   "source": []
  }
 ],
 "metadata": {
  "kernelspec": {
   "display_name": "Python 3 (ipykernel)",
   "language": "python",
   "name": "python3"
  },
  "language_info": {
   "codemirror_mode": {
    "name": "ipython",
    "version": 3
   },
   "file_extension": ".py",
   "mimetype": "text/x-python",
   "name": "python",
   "nbconvert_exporter": "python",
   "pygments_lexer": "ipython3",
   "version": "3.9.6"
  }
 },
 "nbformat": 4,
 "nbformat_minor": 5
}
